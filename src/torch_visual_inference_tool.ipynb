{
 "cells": [
  {
   "cell_type": "markdown",
   "metadata": {
    "jupyter": {
     "outputs_hidden": false
    },
    "pycharm": {
     "name": "#%% md\n"
    }
   },
   "source": [
    "## Imports"
   ]
  },
  {
   "cell_type": "code",
   "execution_count": 1,
   "metadata": {
    "pycharm": {
     "name": "#%%\n"
    }
   },
   "outputs": [],
   "source": [
    "import gc\n",
    "import logging\n",
    "import queue\n",
    "import random\n",
    "import subprocess\n",
    "import time\n",
    "from datetime import datetime\n",
    "from importlib import reload\n",
    "from multiprocessing import Process, Manager\n",
    "import os.path\n",
    "import itertools\n",
    "\n",
    "import matplotlib.pyplot as plt\n",
    "import numpy as np\n",
    "import torch\n",
    "from PIL import Image\n",
    "from torch.nn import Module\n",
    "from torchvision import models, transforms\n",
    "\n",
    "reload(logging)\n",
    "logging.basicConfig(format='%(asctime)s %(levelname)s: %(message)s', level=logging.INFO, datefmt='%I:%M:%S')"
   ]
  },
  {
   "cell_type": "markdown",
   "metadata": {
    "jupyter": {
     "outputs_hidden": false
    },
    "pycharm": {
     "name": "#%% md\n"
    }
   },
   "source": [
    "## Async Processes"
   ]
  },
  {
   "cell_type": "code",
   "execution_count": 2,
   "metadata": {
    "collapsed": false,
    "jupyter": {
     "outputs_hidden": false
    },
    "pycharm": {
     "name": "#%%\n"
    }
   },
   "outputs": [],
   "source": [
    "class GPUMonitor(Process):\n",
    "    def __init__(self, delay):\n",
    "        super(GPUMonitor, self).__init__()\n",
    "        self.delay = delay\n",
    "        self.power_readings = Manager().list()\n",
    "        self.running = True\n",
    "        self.command = 'nvidia-smi --query-gpu=power.draw --format=csv,noheader,nounits'.split(' ')\n",
    "        self.start()\n",
    "\n",
    "    def run(self):\n",
    "        while self.running:\n",
    "            try:\n",
    "                self.power_readings.append(float(subprocess.check_output(self.command).strip()))\n",
    "            except:\n",
    "                logging.error('Something went wrong while retrieving GPU readings...')\n",
    "            time.sleep(self.delay)\n",
    "\n",
    "    def reset_energy(self):\n",
    "        self.power_readings[:] = []\n",
    "\n",
    "    def get_power_average(self):\n",
    "        return np.mean(self.power_readings)\n",
    "\n",
    "    def plot(self):\n",
    "        plt.plot(self.power_readings)\n",
    "        plt.show()\n",
    "\n",
    "\n",
    "class RequestQueue(Process):\n",
    "    def __init__(self, id, frequency, nr_of_requests):\n",
    "        super(Process, self).__init__()\n",
    "        self.id = id\n",
    "        self.frequency = frequency\n",
    "        self.nr_of_requests = nr_of_requests\n",
    "        self.queue = Manager().Queue(nr_of_requests)\n",
    "        self.total_time_in_queue = Manager().Value(float, 0.0)\n",
    "        self.max_wait_time_in_queue = Manager().Value(float, 0.0)\n",
    "        self.batch_start_times = Manager().list()\n",
    "        self.start()\n",
    "\n",
    "    def run(self):\n",
    "        logging.info(\"Started simulation with id: {}\".format(self.id))\n",
    "        while self.nr_of_requests > 0:\n",
    "            self.queue.put((random.choice(['img/dog.jpg', 'img/bald_eagle.jpg', 'img/strawberries.jpg']), time.perf_counter()))\n",
    "            self.nr_of_requests -= 1\n",
    "            time.sleep(1 / self.frequency * random.uniform(0.8, 1.2))\n",
    "\n",
    "    def get_request(self, block=True, timeout=None):\n",
    "        img, t_0 = self.queue.get(block, timeout)\n",
    "        self.batch_start_times.append(t_0)\n",
    "        return img\n",
    "\n",
    "    def update_wait_times(self):\n",
    "        curr_time = time.perf_counter()\n",
    "        for img_t0 in self.batch_start_times:\n",
    "            time_in_queue = curr_time - img_t0\n",
    "            self.total_time_in_queue.value += time_in_queue\n",
    "            self.max_wait_time_in_queue.value = max(self.max_wait_time_in_queue.value, time_in_queue)\n",
    "        self.batch_start_times[:] = []\n",
    "\n"
   ]
  },
  {
   "cell_type": "markdown",
   "metadata": {
    "jupyter": {
     "outputs_hidden": false
    },
    "pycharm": {
     "name": "#%% md\n"
    }
   },
   "source": [
    "## Initialisation"
   ]
  },
  {
   "cell_type": "code",
   "execution_count": 3,
   "metadata": {
    "collapsed": false,
    "jupyter": {
     "outputs_hidden": false
    },
    "pycharm": {
     "name": "#%%\n"
    }
   },
   "outputs": [],
   "source": [
    "\n",
    "transform = transforms.Compose([\n",
    "    transforms.Resize(256),\n",
    "    transforms.CenterCrop(224),\n",
    "    transforms.ToTensor(),\n",
    "    transforms.Normalize(\n",
    "        mean=[0.485, 0.456, 0.406],\n",
    "        std=[0.229, 0.224, 0.225]\n",
    "    )])\n",
    "with open('image_net_classes.txt') as file:\n",
    "    classes = [line.strip().split(', ')[1] for line in file.readlines()]"
   ]
  },
  {
   "cell_type": "markdown",
   "metadata": {
    "jupyter": {
     "outputs_hidden": false
    },
    "pycharm": {
     "name": "#%% md\n"
    }
   },
   "source": [
    "## Inference"
   ]
  },
  {
   "cell_type": "code",
   "execution_count": 4,
   "metadata": {
    "collapsed": false,
    "jupyter": {
     "outputs_hidden": false
    },
    "pycharm": {
     "name": "#%%\n"
    }
   },
   "outputs": [],
   "source": [
    "def infer(model: Module, images, use_gpu=True, verbose=False):\n",
    "    model.eval()\n",
    "    with torch.no_grad():\n",
    "        if use_gpu:\n",
    "            model.cuda()\n",
    "        images_t = [transform(im) for im in images]\n",
    "        batch = torch.cat([tensor for tensor in [torch.unsqueeze(im_t, 0) for im_t in images_t]])\n",
    "        if use_gpu:\n",
    "            out = model(batch.cuda())\n",
    "        else:\n",
    "            out = model(batch)\n",
    "    if verbose:\n",
    "        for prediction in out:\n",
    "            prediction = prediction.cpu()\n",
    "            _, indices = torch.sort(prediction, descending=True)\n",
    "            percentages = [(torch.nn.functional.softmax(prediction, dim=0)[class_index] * 100).item() for class_index in\n",
    "                           indices[:5]]\n",
    "\n",
    "            logging.info(f'Rank\\tInferred class\\tProbability(%)')\n",
    "            for idx, class_index in enumerate(indices[:5]):\n",
    "                logging.info(f'#{idx}\\t\\t{classes[class_index]}\\t{percentages[idx]}')\n",
    "            logging.info('-----------------------------------------')\n",
    "\n",
    "\n",
    "def run_experiment(model_, input_images_):\n",
    "    t_0 = time.perf_counter()\n",
    "    infer(model_, input_images_, use_gpu=True)\n",
    "    return time.perf_counter() - t_0"
   ]
  },
  {
   "cell_type": "markdown",
   "metadata": {
    "jupyter": {
     "outputs_hidden": false
    },
    "pycharm": {
     "name": "#%% md\n"
    }
   },
   "source": [
    "## Write Results"
   ]
  },
  {
   "cell_type": "code",
   "execution_count": 5,
   "metadata": {
    "collapsed": false,
    "jupyter": {
     "outputs_hidden": false
    },
    "pycharm": {
     "name": "#%%\n"
    }
   },
   "outputs": [],
   "source": [
    "def write_results(_file_name, _batch_size, _average, _duration, _wait_time, _max_wait_time, _peak_average, _batch_average):\n",
    "    file = open(f'results/{_file_name}', 'a')\n",
    "    logging.info(f'Batch Size\\tAverage Power(W)\\t\\tTime(s)\\t\\t\\t\\tEnergy(J)\\t\\t\\tAverage Wait Time(s)\\tMax Wait Time(s)\\tAverage Peak Power (W)')\n",
    "    logging.info(f'{_batch_size if _batch_size > 0 else f\"Greedy ({_batch_average})\"}\\t\\t\\t{_average}\\t\\t{_duration}\\t{_average * _duration}\\t{_wait_time}\\t\\t{_max_wait_time}\\t\\t{_peak_average}')\n",
    "    file.write(f'{_batch_size if _batch_size > 0 else f\"Greedy ({_batch_average})\"},{_average},{_duration},{_average * _duration},{_wait_time},{_max_wait_time},{_peak_average}\\n')\n",
    "    file.close()\n",
    "    logging.info(f'Results logged to: results/{file_name}')"
   ]
  },
  {
   "cell_type": "markdown",
   "metadata": {
    "jupyter": {
     "outputs_hidden": false
    },
    "pycharm": {
     "name": "#%% md\n"
    }
   },
   "source": [
    "## Configuration"
   ]
  },
  {
   "cell_type": "code",
   "execution_count": null,
   "metadata": {
    "collapsed": false,
    "jupyter": {
     "outputs_hidden": false
    },
    "pycharm": {
     "name": "#%%\n"
    }
   },
   "outputs": [],
   "source": [
    "random.seed(42)\n",
    "batch_sizes = [16, 32, 64, 128,-1]\n",
    "frequencies = [16, 32, 64, 128]\n",
    "nr_of_requests = 8192\n",
    "models = [models.alexnet(pretrained=True), models.densenet121(pretrained=True), models.shufflenet_v2_x0_5(pretrained=True), models.vit_b_16(pretrained=True), models.convnext_base(pretrained=True), models.efficientnet_v2_l(pretrained=True), models.maxvit_t(pretrained=True), models.swin_s(pretrained=True), models.inception_v3(pretrained=True), models.mnasnet1_0(pretrained=True)]"
   ]
  },
  {
   "cell_type": "code",
   "execution_count": 7,
   "metadata": {},
   "outputs": [],
   "source": [
    "def create_initial_result_file(file_name):\n",
    "    file = open(f'results/{file_name}', 'a')\n",
    "    file.write(f'Batch Size,Average Power(W),Time(s),Energy(J),Average Wait Time(s),Max Wait Time(s),Average Peak Power (W)\\n')\n",
    "    file.close()\n",
    "\n",
    "def create_combinaison_list(models, frequencies, batch_sizes):\n",
    "\n",
    "    experiments = list(itertools.product(*[models, frequencies, batch_sizes]))\n",
    "    return experiments"
   ]
  },
  {
   "cell_type": "markdown",
   "metadata": {
    "jupyter": {
     "outputs_hidden": false
    },
    "pycharm": {
     "name": "#%% md\n"
    }
   },
   "source": [
    "## Simulation"
   ]
  },
  {
   "cell_type": "code",
   "execution_count": null,
   "metadata": {},
   "outputs": [],
   "source": [
    "repetition_number = 5\n",
    "exps = create_combinaison_list(models, frequencies, batch_sizes)\n",
    "random.shuffle(exps)"
   ]
  },
  {
   "cell_type": "code",
   "execution_count": null,
   "metadata": {
    "collapsed": false,
    "jupyter": {
     "outputs_hidden": false
    },
    "pycharm": {
     "is_executing": true,
     "name": "#%%\n"
    }
   },
   "outputs": [],
   "source": [
    "# WARMUP\n",
    "for _ in range(256):\n",
    "    batch = [Image.open('img/dog.jpg') for _ in range(32)]\n",
    "    run_experiment(models[0], batch)\n",
    "###\n",
    "\n",
    "for exp in exps:\n",
    "    # Extract parameters\n",
    "    model = exp[0]\n",
    "    frequency = exp[1]\n",
    "    batch_size = exp[2]\n",
    "    \n",
    "    print(\"Model:\", model.__class__.__name__)\n",
    "    file_name = f'{model.__class__.__name__}_f{frequency}'\n",
    "    if os.path.exists(f'results/{file_name}') is False:\n",
    "        create_initial_result_file(file_name)\n",
    "\n",
    "    torch.cuda.empty_cache()\n",
    "    gc.collect()\n",
    "    epsilon = 2 / frequency + 1\n",
    "    gpu_monitor = GPUMonitor(0.01)\n",
    "    img_count = 0\n",
    "    batches = []\n",
    "\n",
    "    rq = RequestQueue(f'inference_simulation_f{frequency}_{batch_size}', frequency, nr_of_requests)\n",
    "    t_0 = time.perf_counter()\n",
    "    while True:\n",
    "        try:\n",
    "            batch = [Image.open(rq.get_request(block=True, timeout=epsilon)) for _ in\n",
    "                            range(max(min(rq.queue.qsize(), 128), 1) if batch_size <= 0 else batch_size)]\n",
    "            t = run_experiment(model, batch)\n",
    "            rq.update_wait_times()\n",
    "            img_count += len(batch)\n",
    "            batches.append(len(batch))\n",
    "            logging.info(f\"{100 * img_count / nr_of_requests}% last batch ({len(batch)}) took {t}s\")\n",
    "        except queue.Empty:\n",
    "            break\n",
    "\n",
    "    power = gpu_monitor.power_readings[:]\n",
    "    average = np.mean(power)\n",
    "    duration = time.perf_counter() - t_0 - epsilon\n",
    "    wait_time = rq.total_time_in_queue.value / nr_of_requests\n",
    "    max_wait_time = rq.max_wait_time_in_queue.value\n",
    "    peak_average = np.mean(list(filter(lambda p: p > 65, power)))\n",
    "    average_batch_size = np.mean(batches)\n",
    "    gpu_monitor.plot()\n",
    "    write_results(file_name, batch_size, average, duration, wait_time, max_wait_time, peak_average, average_batch_size)\n",
    "    rq.terminate()\n",
    "    gpu_monitor.terminate()"
   ]
  },
  {
   "cell_type": "code",
   "execution_count": null,
   "metadata": {},
   "outputs": [],
   "source": []
  }
 ],
 "metadata": {
  "kernelspec": {
   "display_name": "Python 3 (ipykernel)",
   "language": "python",
   "name": "python3"
  },
  "language_info": {
   "codemirror_mode": {
    "name": "ipython",
    "version": 3
   },
   "file_extension": ".py",
   "mimetype": "text/x-python",
   "name": "python",
   "nbconvert_exporter": "python",
   "pygments_lexer": "ipython3",
   "version": "3.9.13"
  }
 },
 "nbformat": 4,
 "nbformat_minor": 4
}
