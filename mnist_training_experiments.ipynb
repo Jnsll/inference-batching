{
 "cells": [
  {
   "cell_type": "markdown",
   "source": [
    "## Imports"
   ],
   "metadata": {
    "collapsed": false
   }
  },
  {
   "cell_type": "code",
   "execution_count": 159,
   "metadata": {
    "collapsed": true
   },
   "outputs": [],
   "source": [
    "import gc\n",
    "import time\n",
    "from importlib import reload\n",
    "import logging\n",
    "import math\n",
    "\n",
    "import matplotlib.pyplot as plt\n",
    "import numpy as np\n",
    "import torch\n",
    "from torch.utils.data import Dataset, DataLoader\n",
    "from torchvision import datasets\n",
    "from torchvision.transforms import ToTensor\n",
    "from sklearn.metrics import accuracy_score\n",
    "from sklearn.model_selection import train_test_split\n",
    "from torch.autograd import Variable\n",
    "from torch.nn import *\n",
    "from torch.optim import Adam\n",
    "from tqdm import tqdm\n",
    "\n",
    "reload(logging)\n",
    "logging.basicConfig(format='%(asctime)s %(levelname)s: %(message)s', level=logging.INFO, datefmt='%I:%M:%S')"
   ]
  },
  {
   "cell_type": "markdown",
   "source": [
    "## Neural Network Classes"
   ],
   "metadata": {
    "collapsed": false
   }
  },
  {
   "cell_type": "code",
   "execution_count": 160,
   "outputs": [],
   "source": [
    "class SimpleCNN(Module):\n",
    "    def __init__(self, img_dim, classes, config):\n",
    "        super(SimpleCNN, self).__init__()\n",
    "\n",
    "        self.layers = Sequential(\n",
    "            # Defining a 2D convolution layer\n",
    "            Conv2d(1, 4, kernel_size=3, stride=1, padding=1),\n",
    "            BatchNorm2d(4),\n",
    "            ReLU(inplace=True),\n",
    "            MaxPool2d(kernel_size=2, stride=2),\n",
    "            # Defining another 2D convolution layer\n",
    "            Conv2d(4, 4, kernel_size=3, stride=1, padding=1),\n",
    "            BatchNorm2d(4),\n",
    "            ReLU(inplace=True),\n",
    "            MaxPool2d(kernel_size=2, stride=2),\n",
    "            Flatten(start_dim=1),\n",
    "            Linear(img_dim * 7, math.floor(img_dim * 7 / 2)),\n",
    "            Linear(math.floor(img_dim * 7 / 2), classes)\n",
    "        )\n",
    "        logging.info(self.layers)\n",
    "\n",
    "    def forward(self, x):\n",
    "        x = self.layers(x)\n",
    "        return x\n",
    "\n",
    "\n",
    "class DensePolyNN(Module):\n",
    "    def __init__(self, img_dim, classes, config):\n",
    "        super(DensePolyNN, self).__init__()\n",
    "        linear_layers = [\n",
    "            Linear(\n",
    "                max(math.floor(img_dim ** 2 / 2 ** depth), 1),\n",
    "                max(math.floor(img_dim ** 2 / 2 ** (depth + 1)), 1))\n",
    "            for depth in range(config['nr_linear_layers'] - 1)\n",
    "        ]\n",
    "        self.layers = Sequential(\n",
    "            Flatten(start_dim=1),\n",
    "            *linear_layers,\n",
    "            Linear(max(math.floor(img_dim ** 2 / 2 ** (config['nr_linear_layers'] - 1)), 1), classes)\n",
    "        )\n",
    "        logging.info(self.layers)\n",
    "\n",
    "    def forward(self, x):\n",
    "        x = self.layers(x)\n",
    "        return x\n",
    "\n",
    "\n",
    "class DenseLinearNN(Module):\n",
    "    def __init__(self, img_dim, classes, config):\n",
    "        super(DenseLinearNN, self).__init__()\n",
    "        linear_layers = [\n",
    "            Linear(\n",
    "                max(math.floor(img_dim ** 2 - depth * (img_dim ** 2 / config['nr_linear_layers'])), 1),\n",
    "                max(math.floor(img_dim ** 2 - (depth + 1) * (img_dim ** 2 / config['nr_linear_layers'])), 1))\n",
    "            for depth in range(config['nr_linear_layers'] - 1)\n",
    "        ]\n",
    "\n",
    "        self.layers = Sequential(\n",
    "            Flatten(start_dim=1),\n",
    "            *linear_layers,\n",
    "            Linear(max(math.floor(\n",
    "                img_dim ** 2 - (config['nr_linear_layers'] - 1) * (img_dim ** 2 / config['nr_linear_layers'])), 1),\n",
    "                classes)\n",
    "        )\n",
    "        logging.info(self.layers)\n",
    "\n",
    "    def forward(self, x):\n",
    "        x = self.layers(x)\n",
    "        return x"
   ],
   "metadata": {
    "collapsed": false,
    "pycharm": {
     "name": "#%%\n"
    }
   }
  },
  {
   "cell_type": "markdown",
   "source": [
    "## Helper functions"
   ],
   "metadata": {
    "collapsed": false
   }
  },
  {
   "cell_type": "code",
   "execution_count": 161,
   "outputs": [],
   "source": [
    "def load_mnist(problem, scope):\n",
    "    labels_path = f'Problems/{problem}/{scope}-labels'\n",
    "    images_path = f'Problems/{problem}/{scope}-images'\n",
    "\n",
    "    with open(labels_path, 'rb') as lbpath:\n",
    "        labels = np.frombuffer(lbpath.read(), dtype=np.uint8, offset=8)\n",
    "\n",
    "    with open(images_path, 'rb') as imgpath:\n",
    "        images = []\n",
    "        for image in np.frombuffer(imgpath.read(), dtype=np.uint8, offset=16).reshape(len(labels), 28, 28):\n",
    "            img = image / 255.0\n",
    "            img = img.astype('float32')\n",
    "            images.append(img)\n",
    "    return np.array(images), labels\n",
    "\n",
    "\n",
    "def np_array_to_torch_tensor(x, y=None):\n",
    "    dim1, dim2, dim3 = x.shape\n",
    "    x = x.reshape(dim1, 1, dim2, dim3)\n",
    "    x = torch.from_numpy(x)\n",
    "    if y is not None:\n",
    "        y = y.astype(int)\n",
    "        y = torch.from_numpy(y)\n",
    "        return x, y\n",
    "    return x\n",
    "\n",
    "\n",
    "def create_model(net, config):\n",
    "    model = net(img_dim=28, classes=10, config=config)\n",
    "    optimizer = Adam(model.parameters(), lr=0.005)\n",
    "    criterion = CrossEntropyLoss()\n",
    "    if torch.cuda.is_available():\n",
    "        logging.info('Using GPU')\n",
    "        model = model.cuda()\n",
    "        criterion = criterion.cuda()\n",
    "    return model, optimizer, criterion\n",
    "\n",
    "\n",
    "def train(net, config, train_data, tag):\n",
    "    train_x, train_y, val_x, val_y = train_data\n",
    "    logging.info(f'Constructing {tag}')\n",
    "    model, optimizer, criterion = create_model(net, config)\n",
    "    train_losses = []\n",
    "    val_losses = []\n",
    "    logging.info('Training the model')\n",
    "    for _ in tqdm(range(config['epochs'])):\n",
    "        # for batch, (a, b) in enumerate(train_dataloader):\n",
    "        #     pass\n",
    "        model.train()\n",
    "        x_train, y_train = Variable(train_x), Variable(train_y)\n",
    "        x_val, y_val = Variable(val_x), Variable(val_y)\n",
    "        if torch.cuda.is_available():\n",
    "            x_train = x_train.cuda()\n",
    "            y_train = y_train.cuda()\n",
    "            x_val = x_val.cuda()\n",
    "            y_val = y_val.cuda()\n",
    "\n",
    "        # clearing the Gradients of the model parameters\n",
    "        optimizer.zero_grad()\n",
    "\n",
    "        # prediction for training and validation set\n",
    "        output_train = model(x_train)\n",
    "        output_val = model(x_val)\n",
    "\n",
    "        # computing the training and validation loss\n",
    "        loss_train = criterion(output_train, y_train)\n",
    "        loss_val = criterion(output_val, y_val)\n",
    "        train_losses.append(loss_train.item())\n",
    "        val_losses.append(loss_val.item())\n",
    "\n",
    "        # computing the updated weights of all the model parameters\n",
    "        loss_train.backward()\n",
    "        optimizer.step()\n",
    "    plt.plot(train_losses, label='Training loss')\n",
    "    plt.plot(val_losses, label='Validation loss')\n",
    "    plt.legend()\n",
    "    plt.show()\n",
    "    return model\n",
    "\n",
    "\n",
    "def test(model, test_x, test_y):\n",
    "    with torch.no_grad():\n",
    "        output = model(test_x.cuda())\n",
    "\n",
    "    softmax = torch.exp(output).cpu()\n",
    "    prob = list(softmax.numpy())\n",
    "    predictions = np.argmax(prob, axis=1)\n",
    "\n",
    "    return accuracy_score(test_y, predictions)\n",
    "\n",
    "\n",
    "def predict(model, test_x, predictions):\n",
    "    logging.info('Generating predictions')\n",
    "    with torch.no_grad():\n",
    "        output = model(test_x.cuda())\n",
    "\n",
    "    softmax = torch.exp(output).cpu()\n",
    "    prob = list(softmax.numpy())\n",
    "    predictions['label'] = np.argmax(prob, axis=1)\n",
    "    return predictions"
   ],
   "metadata": {
    "collapsed": false,
    "pycharm": {
     "name": "#%%\n"
    }
   }
  },
  {
   "cell_type": "markdown",
   "source": [
    "## Configuration"
   ],
   "metadata": {
    "collapsed": false
   }
  },
  {
   "cell_type": "code",
   "execution_count": 162,
   "outputs": [],
   "source": [
    "config = {\n",
    "    'epochs': 25,\n",
    "    'nr_linear_layers': 5,\n",
    "    'batch_size': 60000\n",
    "}"
   ],
   "metadata": {
    "collapsed": false,
    "pycharm": {
     "name": "#%%\n"
    }
   }
  },
  {
   "cell_type": "markdown",
   "source": [
    "## Load data"
   ],
   "metadata": {
    "collapsed": false,
    "pycharm": {
     "name": "#%% md\n"
    }
   }
  },
  {
   "cell_type": "code",
   "execution_count": 163,
   "outputs": [
    {
     "name": "stderr",
     "output_type": "stream",
     "text": [
      "03:46:35 INFO: Loading data\n"
     ]
    }
   ],
   "source": [
    "logging.info('Loading data')\n",
    "train_x, train_y = load_mnist('FashionMNIST', 'train')\n",
    "train_x, val_x, train_y, val_y = train_test_split(train_x, train_y, test_size=0.1)\n",
    "train_x, train_y = np_array_to_torch_tensor(train_x, train_y)\n",
    "val_x, val_y = np_array_to_torch_tensor(val_x, val_y)\n",
    "\n",
    "test_x, test_y = load_mnist('FashionMNIST', 'test')\n",
    "test_x = np_array_to_torch_tensor(test_x)\n",
    "\n",
    "# training_data = datasets.FashionMNIST(\n",
    "#     root=\"data\",\n",
    "#     train=True,\n",
    "#     download=True,\n",
    "#     transform=ToTensor()\n",
    "# )\n",
    "# train_dataloader = DataLoader(training_data, batch_size=config['batch_size'], shuffle=True)\n",
    "# test_data = datasets.FashionMNIST(\n",
    "#     root=\"data\",\n",
    "#     train=False,\n",
    "#     download=True,\n",
    "#     transform=ToTensor()\n",
    "# )\n",
    "# test_dataloader = DataLoader(test_data, batch_size=10000, shuffle=True)\n",
    "# test_x, test_y = next(iter(test_dataloader))"
   ],
   "metadata": {
    "collapsed": false,
    "pycharm": {
     "name": "#%%\n"
    }
   }
  },
  {
   "cell_type": "markdown",
   "source": [
    "## Train model"
   ],
   "metadata": {
    "collapsed": false
   }
  },
  {
   "cell_type": "code",
   "execution_count": 164,
   "outputs": [
    {
     "name": "stderr",
     "output_type": "stream",
     "text": [
      "03:46:35 INFO: Constructing DensePolyNN\n",
      "03:46:35 INFO: Sequential(\n",
      "  (0): Flatten(start_dim=1, end_dim=-1)\n",
      "  (1): Linear(in_features=784, out_features=392, bias=True)\n",
      "  (2): Linear(in_features=392, out_features=196, bias=True)\n",
      "  (3): Linear(in_features=196, out_features=98, bias=True)\n",
      "  (4): Linear(in_features=98, out_features=49, bias=True)\n",
      "  (5): Linear(in_features=49, out_features=10, bias=True)\n",
      ")\n",
      "03:46:35 INFO: Using GPU\n",
      "03:46:35 INFO: Training the model\n",
      "100%|██████████| 25/25 [00:01<00:00, 15.55it/s]\n"
     ]
    },
    {
     "data": {
      "text/plain": "<Figure size 432x288 with 1 Axes>",
      "image/png": "[encoded data removed]"
     },
     "metadata": {
      "needs_background": "light"
     },
     "output_type": "display_data"
    },
    {
     "name": "stderr",
     "output_type": "stream",
     "text": [
      "03:46:37 INFO: Constructing DenseLinearNN\n",
      "03:46:37 INFO: Sequential(\n",
      "  (0): Flatten(start_dim=1, end_dim=-1)\n",
      "  (1): Linear(in_features=784, out_features=627, bias=True)\n",
      "  (2): Linear(in_features=627, out_features=470, bias=True)\n",
      "  (3): Linear(in_features=470, out_features=313, bias=True)\n",
      "  (4): Linear(in_features=313, out_features=156, bias=True)\n",
      "  (5): Linear(in_features=156, out_features=10, bias=True)\n",
      ")\n",
      "03:46:37 INFO: Using GPU\n",
      "03:46:37 INFO: Training the model\n",
      "100%|██████████| 25/25 [00:02<00:00, 10.59it/s]\n"
     ]
    },
    {
     "data": {
      "text/plain": "<Figure size 432x288 with 1 Axes>",
      "image/png": "[encoded data removed]"
     },
     "metadata": {
      "needs_background": "light"
     },
     "output_type": "display_data"
    },
    {
     "name": "stderr",
     "output_type": "stream",
     "text": [
      "03:46:40 INFO: Constructing SimpleCNN\n",
      "03:46:40 INFO: Sequential(\n",
      "  (0): Conv2d(1, 4, kernel_size=(3, 3), stride=(1, 1), padding=(1, 1))\n",
      "  (1): BatchNorm2d(4, eps=1e-05, momentum=0.1, affine=True, track_running_stats=True)\n",
      "  (2): ReLU(inplace=True)\n",
      "  (3): MaxPool2d(kernel_size=2, stride=2, padding=0, dilation=1, ceil_mode=False)\n",
      "  (4): Conv2d(4, 4, kernel_size=(3, 3), stride=(1, 1), padding=(1, 1))\n",
      "  (5): BatchNorm2d(4, eps=1e-05, momentum=0.1, affine=True, track_running_stats=True)\n",
      "  (6): ReLU(inplace=True)\n",
      "  (7): MaxPool2d(kernel_size=2, stride=2, padding=0, dilation=1, ceil_mode=False)\n",
      "  (8): Flatten(start_dim=1, end_dim=-1)\n",
      "  (9): Linear(in_features=196, out_features=98, bias=True)\n",
      "  (10): Linear(in_features=98, out_features=10, bias=True)\n",
      ")\n",
      "03:46:40 INFO: Using GPU\n",
      "03:46:40 INFO: Training the model\n",
      "100%|██████████| 25/25 [00:13<00:00,  1.89it/s]\n"
     ]
    },
    {
     "data": {
      "text/plain": "<Figure size 432x288 with 1 Axes>",
      "image/png": "[encoded data removed]"
     },
     "metadata": {
      "needs_background": "light"
     },
     "output_type": "display_data"
    }
   ],
   "source": [
    "torch.manual_seed(42)\n",
    "gc.collect()\n",
    "torch.cuda.empty_cache()\n",
    "models = [\n",
    "    (train(DensePolyNN, config, (train_x, train_y, val_x, val_y), 'DensePolyNN'), 'DensePolyNN'),\n",
    "    (train(DenseLinearNN, config, (train_x, train_y, val_x, val_y), 'DenseLinearNN'), 'DenseLinearNN'),\n",
    "    (train(SimpleCNN, config, (train_x, train_y, val_x, val_y), 'SimpleCNN'), 'SimpleCNN'),\n",
    "]\n",
    "gc.collect()\n",
    "torch.cuda.empty_cache()"
   ],
   "metadata": {
    "collapsed": false,
    "pycharm": {
     "name": "#%%\n"
    }
   }
  },
  {
   "cell_type": "markdown",
   "source": [
    "## Test Model"
   ],
   "metadata": {
    "collapsed": false
   }
  },
  {
   "cell_type": "code",
   "source": [
    "logging.info('Generating predictions and calculating accuracy')\n",
    "for model, tag in models:\n",
    "    accuracy = test(model, test_x, test_y)\n",
    "    logging.info(f'{tag}: {accuracy=}')"
   ],
   "metadata": {
    "collapsed": false,
    "pycharm": {
     "name": "#%%\n"
    }
   },
   "execution_count": 165,
   "outputs": [
    {
     "name": "stderr",
     "output_type": "stream",
     "text": [
      "03:46:53 INFO: Generating predictions and calculating accuracy\n",
      "03:46:53 INFO: DensePolyNN: accuracy=0.7433\n",
      "03:46:53 INFO: DenseLinearNN: accuracy=0.6738\n",
      "03:46:53 INFO: SimpleCNN: accuracy=0.8121\n"
     ]
    }
   ]
  }
 ],
 "metadata": {
  "kernelspec": {
   "display_name": "Python 3",
   "language": "python",
   "name": "python3"
  },
  "language_info": {
   "codemirror_mode": {
    "name": "ipython",
    "version": 2
   },
   "file_extension": ".py",
   "mimetype": "text/x-python",
   "name": "python",
   "nbconvert_exporter": "python",
   "pygments_lexer": "ipython2",
   "version": "2.7.6"
  }
 },
 "nbformat": 4,
 "nbformat_minor": 0
}