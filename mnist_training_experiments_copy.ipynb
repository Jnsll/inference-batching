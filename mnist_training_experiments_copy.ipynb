{
 "cells": [
  {
   "cell_type": "markdown",
   "source": [
    "## Imports"
   ],
   "metadata": {
    "collapsed": false
   }
  },
  {
   "cell_type": "code",
   "execution_count": 69,
   "metadata": {
    "collapsed": true
   },
   "outputs": [],
   "source": [
    "import gc\n",
    "from importlib import reload\n",
    "import logging\n",
    "import math\n",
    "\n",
    "import matplotlib.pyplot as plt\n",
    "import numpy as np\n",
    "import torch\n",
    "from torch.utils.data import Dataset, DataLoader\n",
    "from torchvision import datasets\n",
    "from torchvision.transforms import ToTensor\n",
    "from sklearn.metrics import accuracy_score\n",
    "from sklearn.model_selection import train_test_split\n",
    "from torch.autograd import Variable\n",
    "from torch.nn import *\n",
    "from torch.optim import Adam\n",
    "from tqdm import tqdm\n",
    "\n",
    "reload(logging)\n",
    "logging.basicConfig(format='%(asctime)s %(levelname)s: %(message)s', level=logging.INFO, datefmt='%I:%M:%S')"
   ]
  },
  {
   "cell_type": "markdown",
   "source": [
    "## Neural Network Classes"
   ],
   "metadata": {
    "collapsed": false
   }
  },
  {
   "cell_type": "code",
   "execution_count": 70,
   "outputs": [],
   "source": [
    "class SimpleCNN(Module):\n",
    "    def __init__(self, img_dim, classes, config):\n",
    "        super(SimpleCNN, self).__init__()\n",
    "\n",
    "        self.layers = Sequential(\n",
    "            # Defining a 2D convolution layer\n",
    "            Conv2d(1, 4, kernel_size=3, stride=1, padding=1),\n",
    "            BatchNorm2d(4),\n",
    "            ReLU(inplace=True),\n",
    "            MaxPool2d(kernel_size=2, stride=2),\n",
    "            # Defining another 2D convolution layer\n",
    "            Conv2d(4, 4, kernel_size=3, stride=1, padding=1),\n",
    "            BatchNorm2d(4),\n",
    "            ReLU(inplace=True),\n",
    "            MaxPool2d(kernel_size=2, stride=2),\n",
    "            Flatten(start_dim=1),\n",
    "            Linear(img_dim * 7, math.floor(img_dim * 7 / 2)),\n",
    "            Linear(math.floor(img_dim * 7 / 2), classes)\n",
    "        )\n",
    "        logging.info(self.layers)\n",
    "\n",
    "    def forward(self, x):\n",
    "        x = self.layers(x)\n",
    "        return x\n",
    "\n",
    "\n",
    "class DensePolyNN(Module):\n",
    "    def __init__(self, img_dim, classes, config):\n",
    "        super(DensePolyNN, self).__init__()\n",
    "        linear_layers = [\n",
    "            Linear(\n",
    "                max(math.floor(img_dim ** 2 / 2 ** depth), 1),\n",
    "                max(math.floor(img_dim ** 2 / 2 ** (depth + 1)), 1))\n",
    "            for depth in range(config['nr_linear_layers'] - 1)\n",
    "        ]\n",
    "        self.layers = Sequential(\n",
    "            Flatten(start_dim=1),\n",
    "            *linear_layers,\n",
    "            Linear(max(math.floor(img_dim ** 2 / 2 ** (config['nr_linear_layers'] - 1)), 1), classes)\n",
    "        )\n",
    "        logging.info(self.layers)\n",
    "\n",
    "    def forward(self, x):\n",
    "        x = self.layers(x)\n",
    "        return x\n",
    "\n",
    "\n",
    "class DenseLinearNN(Module):\n",
    "    def __init__(self, img_dim, classes, config):\n",
    "        super(DenseLinearNN, self).__init__()\n",
    "        linear_layers = [\n",
    "            Linear(\n",
    "                max(math.floor(img_dim ** 2 - depth * (img_dim ** 2 / config['nr_linear_layers'])), 1),\n",
    "                max(math.floor(img_dim ** 2 - (depth + 1) * (img_dim ** 2 / config['nr_linear_layers'])), 1))\n",
    "            for depth in range(config['nr_linear_layers'] - 1)\n",
    "        ]\n",
    "\n",
    "        self.layers = Sequential(\n",
    "            Flatten(start_dim=1),\n",
    "            *linear_layers,\n",
    "            Linear(max(math.floor(\n",
    "                img_dim ** 2 - (config['nr_linear_layers'] - 1) * (img_dim ** 2 / config['nr_linear_layers'])), 1),\n",
    "                classes)\n",
    "        )\n",
    "        logging.info(self.layers)\n",
    "\n",
    "    def forward(self, x):\n",
    "        x = self.layers(x)\n",
    "        return x"
   ],
   "metadata": {
    "collapsed": false,
    "pycharm": {
     "name": "#%%\n"
    }
   }
  },
  {
   "cell_type": "markdown",
   "source": [
    "## Helper functions"
   ],
   "metadata": {
    "collapsed": false
   }
  },
  {
   "cell_type": "code",
   "execution_count": 71,
   "outputs": [],
   "source": [
    "def load_mnist(problem, scope):\n",
    "    logging.info('Loading data')\n",
    "    labels_path = f'Problems/{problem}/{scope}-labels'\n",
    "    images_path = f'Problems/{problem}/{scope}-images'\n",
    "\n",
    "    with open(labels_path, 'rb') as lbpath:\n",
    "        labels = np.frombuffer(lbpath.read(), dtype=np.uint8, offset=8)\n",
    "\n",
    "    with open(images_path, 'rb') as imgpath:\n",
    "        images = []\n",
    "        for image in np.frombuffer(imgpath.read(), dtype=np.uint8, offset=16).reshape(len(labels), 28, 28):\n",
    "            img = image / 255.0\n",
    "            img = img.astype('float32')\n",
    "            images.append(img)\n",
    "    return np.array(images), labels\n",
    "\n",
    "\n",
    "def np_array_to_torch_tensor(x, y=None):\n",
    "    dim1, dim2, dim3 = x.shape\n",
    "    x = x.reshape(dim1, 1, dim2, dim3)\n",
    "    x = torch.from_numpy(x)\n",
    "    if y is not None:\n",
    "        y = y.astype(int)\n",
    "        y = torch.from_numpy(y)\n",
    "        return x, y\n",
    "    return x\n",
    "\n",
    "\n",
    "def create_model(net, config):\n",
    "    logging.info('Constructing CNN')\n",
    "    model = net(img_dim=28, classes=10, config=config)\n",
    "    optimizer = Adam(model.parameters(), lr=0.005)\n",
    "    criterion = CrossEntropyLoss()\n",
    "    if torch.cuda.is_available():\n",
    "        logging.info('Using GPU')\n",
    "        model = model.cuda()\n",
    "        criterion = criterion.cuda()\n",
    "    return model, optimizer, criterion\n",
    "\n",
    "\n",
    "def train(net, config, train_data):\n",
    "    logging.info('Training the model')\n",
    "    train_x, train_y, val_x, val_y = train_data\n",
    "    print(train_x.shape, train_y.shape, val_x.shape, val_y.shape)\n",
    "    model, optimizer, criterion = create_model(net, config)\n",
    "    train_losses = []\n",
    "    val_losses = []\n",
    "    for _ in tqdm(range(config['epochs'])):\n",
    "        model.train()\n",
    "        x_train, y_train = Variable(train_x), Variable(train_y)\n",
    "        x_val, y_val = Variable(val_x), Variable(val_y)\n",
    "        if torch.cuda.is_available():\n",
    "            x_train = x_train.cuda()\n",
    "            y_train = y_train.cuda()\n",
    "            x_val = x_val.cuda()\n",
    "            y_val = y_val.cuda()\n",
    "\n",
    "        # clearing the Gradients of the model parameters\n",
    "        optimizer.zero_grad()\n",
    "\n",
    "        # prediction for training and validation set\n",
    "        output_train = model(x_train)\n",
    "        output_val = model(x_val)\n",
    "\n",
    "        # computing the training and validation loss\n",
    "        loss_train = criterion(output_train, y_train)\n",
    "        loss_val = criterion(output_val, y_val)\n",
    "        train_losses.append(loss_train.item())\n",
    "        val_losses.append(loss_val.item())\n",
    "\n",
    "        # computing the updated weights of all the model parameters\n",
    "        loss_train.backward()\n",
    "        optimizer.step()\n",
    "    plt.plot(train_losses, label='Training loss')\n",
    "    plt.plot(val_losses, label='Validation loss')\n",
    "    plt.legend()\n",
    "    plt.show()\n",
    "    return model\n",
    "\n",
    "\n",
    "def test(model, test_x, test_y):\n",
    "    with torch.no_grad():\n",
    "        output = model(test_x.cuda())\n",
    "\n",
    "    softmax = torch.exp(output).cpu()\n",
    "    prob = list(softmax.numpy())\n",
    "    predictions = np.argmax(prob, axis=1)\n",
    "\n",
    "    return accuracy_score(test_y, predictions)\n",
    "\n",
    "\n",
    "def predict(model, test_x, predictions):\n",
    "    logging.info('Generating predictions')\n",
    "    with torch.no_grad():\n",
    "        output = model(test_x.cuda())\n",
    "\n",
    "    softmax = torch.exp(output).cpu()\n",
    "    prob = list(softmax.numpy())\n",
    "    predictions['label'] = np.argmax(prob, axis=1)\n",
    "    return predictions"
   ],
   "metadata": {
    "collapsed": false,
    "pycharm": {
     "name": "#%%\n"
    }
   }
  },
  {
   "cell_type": "markdown",
   "source": [
    "## Configuration"
   ],
   "metadata": {
    "collapsed": false
   }
  },
  {
   "cell_type": "code",
   "execution_count": 72,
   "outputs": [],
   "source": [
    "config = {\n",
    "    'epochs': 10,\n",
    "    'nr_linear_layers': 3,\n",
    "    'batch_size': 60000\n",
    "}"
   ],
   "metadata": {
    "collapsed": false,
    "pycharm": {
     "name": "#%%\n"
    }
   }
  },
  {
   "cell_type": "markdown",
   "source": [
    "## Load data"
   ],
   "metadata": {
    "collapsed": false,
    "pycharm": {
     "name": "#%% md\n"
    }
   }
  },
  {
   "cell_type": "code",
   "execution_count": 73,
   "outputs": [
    {
     "name": "stderr",
     "output_type": "stream",
     "text": [
      "03:01:11 INFO: Loading data\n",
      "03:01:11 INFO: Loading data\n",
      "03:01:12 INFO: Loading data\n"
     ]
    }
   ],
   "source": [
    "logging.info('Loading data')\n",
    "train_x, train_y = load_mnist('FashionMNIST', 'train')\n",
    "train_x, val_x, train_y, val_y = train_test_split(train_x, train_y, test_size=0.1)\n",
    "train_x, train_y = np_array_to_torch_tensor(train_x, train_y)\n",
    "val_x, val_y = np_array_to_torch_tensor(val_x, val_y)\n",
    "\n",
    "test_x, test_y = load_mnist('FashionMNIST', 'test')\n",
    "test_x = np_array_to_torch_tensor(test_x)\n",
    "\n",
    "# training_data = datasets.FashionMNIST(\n",
    "#     root=\"data\",\n",
    "#     train=True,\n",
    "#     download=True,\n",
    "#     transform=ToTensor()\n",
    "# )\n",
    "# train_dataloader = DataLoader(training_data, batch_size=config['batch_size'], shuffle=True)\n",
    "#\n",
    "# test_data = datasets.FashionMNIST(\n",
    "#     root=\"data\",\n",
    "#     train=False,\n",
    "#     download=True,\n",
    "#     transform=ToTensor()\n",
    "# )\n",
    "# test_dataloader = DataLoader(test_data, batch_size=10000, shuffle=True)\n",
    "# test_x, test_y = next(iter(test_dataloader))"
   ],
   "metadata": {
    "collapsed": false,
    "pycharm": {
     "name": "#%%\n"
    }
   }
  },
  {
   "cell_type": "markdown",
   "source": [
    "## Train model"
   ],
   "metadata": {
    "collapsed": false
   }
  },
  {
   "cell_type": "code",
   "execution_count": 74,
   "outputs": [
    {
     "name": "stderr",
     "output_type": "stream",
     "text": [
      "03:01:12 INFO: Training the model\n",
      "03:01:12 INFO: Constructing CNN\n",
      "03:01:12 INFO: Sequential(\n",
      "  (0): Flatten(start_dim=1, end_dim=-1)\n",
      "  (1): Linear(in_features=784, out_features=392, bias=True)\n",
      "  (2): Linear(in_features=392, out_features=196, bias=True)\n",
      "  (3): Linear(in_features=196, out_features=10, bias=True)\n",
      ")\n",
      "03:01:12 INFO: Using GPU\n"
     ]
    },
    {
     "name": "stdout",
     "output_type": "stream",
     "text": [
      "torch.Size([54000, 1, 28, 28]) torch.Size([54000]) torch.Size([6000, 1, 28, 28]) torch.Size([6000])\n"
     ]
    },
    {
     "name": "stderr",
     "output_type": "stream",
     "text": [
      "100%|██████████| 10/10 [00:00<00:00, 14.25it/s]\n"
     ]
    },
    {
     "data": {
      "text/plain": "<Figure size 432x288 with 1 Axes>",
      "image/png": "[encoded data removed]"
     },
     "metadata": {
      "needs_background": "light"
     },
     "output_type": "display_data"
    }
   ],
   "source": [
    "torch.manual_seed(42)\n",
    "gc.collect()\n",
    "torch.cuda.empty_cache()\n",
    "models = [\n",
    "    (train(DensePolyNN, config, (train_x, train_y, val_x, val_y)), 'DensePolyNN'),\n",
    "    # (train(DenseLinearNN, config, train_x, train_y, val_x, val_y), 'DenseLinearNN'),\n",
    "    # (train(SimpleCNN, config, (train_x, train_y, val_x, val_y)), 'SimpleCNN'),\n",
    "]\n",
    "gc.collect()\n",
    "torch.cuda.empty_cache()"
   ],
   "metadata": {
    "collapsed": false,
    "pycharm": {
     "name": "#%%\n"
    }
   }
  },
  {
   "cell_type": "markdown",
   "source": [
    "## Test Model"
   ],
   "metadata": {
    "collapsed": false
   }
  },
  {
   "cell_type": "code",
   "source": [
    "logging.info('Generating predictions and calculating accuracy')\n",
    "print(test_x)\n",
    "print(test_y)\n",
    "for model, tag in models:\n",
    "    accuracy = test(model, test_x, test_y)\n",
    "    logging.info(f'{tag}: {accuracy=}')"
   ],
   "metadata": {
    "collapsed": false,
    "pycharm": {
     "name": "#%%\n"
    }
   },
   "execution_count": 76,
   "outputs": [
    {
     "name": "stderr",
     "output_type": "stream",
     "text": [
      "03:01:35 INFO: Generating predictions and calculating accuracy\n",
      "03:01:35 INFO: DensePolyNN: accuracy=0.622\n"
     ]
    },
    {
     "name": "stdout",
     "output_type": "stream",
     "text": [
      "tensor([[[[0., 0., 0.,  ..., 0., 0., 0.],\n",
      "          [0., 0., 0.,  ..., 0., 0., 0.],\n",
      "          [0., 0., 0.,  ..., 0., 0., 0.],\n",
      "          ...,\n",
      "          [0., 0., 0.,  ..., 0., 0., 0.],\n",
      "          [0., 0., 0.,  ..., 0., 0., 0.],\n",
      "          [0., 0., 0.,  ..., 0., 0., 0.]]],\n",
      "\n",
      "\n",
      "        [[[0., 0., 0.,  ..., 0., 0., 0.],\n",
      "          [0., 0., 0.,  ..., 0., 0., 0.],\n",
      "          [0., 0., 0.,  ..., 0., 0., 0.],\n",
      "          ...,\n",
      "          [0., 0., 0.,  ..., 0., 0., 0.],\n",
      "          [0., 0., 0.,  ..., 0., 0., 0.],\n",
      "          [0., 0., 0.,  ..., 0., 0., 0.]]],\n",
      "\n",
      "\n",
      "        [[[0., 0., 0.,  ..., 0., 0., 0.],\n",
      "          [0., 0., 0.,  ..., 0., 0., 0.],\n",
      "          [0., 0., 0.,  ..., 0., 0., 0.],\n",
      "          ...,\n",
      "          [0., 0., 0.,  ..., 0., 0., 0.],\n",
      "          [0., 0., 0.,  ..., 0., 0., 0.],\n",
      "          [0., 0., 0.,  ..., 0., 0., 0.]]],\n",
      "\n",
      "\n",
      "        ...,\n",
      "\n",
      "\n",
      "        [[[0., 0., 0.,  ..., 0., 0., 0.],\n",
      "          [0., 0., 0.,  ..., 0., 0., 0.],\n",
      "          [0., 0., 0.,  ..., 0., 0., 0.],\n",
      "          ...,\n",
      "          [0., 0., 0.,  ..., 0., 0., 0.],\n",
      "          [0., 0., 0.,  ..., 0., 0., 0.],\n",
      "          [0., 0., 0.,  ..., 0., 0., 0.]]],\n",
      "\n",
      "\n",
      "        [[[0., 0., 0.,  ..., 0., 0., 0.],\n",
      "          [0., 0., 0.,  ..., 0., 0., 0.],\n",
      "          [0., 0., 0.,  ..., 0., 0., 0.],\n",
      "          ...,\n",
      "          [0., 0., 0.,  ..., 0., 0., 0.],\n",
      "          [0., 0., 0.,  ..., 0., 0., 0.],\n",
      "          [0., 0., 0.,  ..., 0., 0., 0.]]],\n",
      "\n",
      "\n",
      "        [[[0., 0., 0.,  ..., 0., 0., 0.],\n",
      "          [0., 0., 0.,  ..., 0., 0., 0.],\n",
      "          [0., 0., 0.,  ..., 0., 0., 0.],\n",
      "          ...,\n",
      "          [0., 0., 0.,  ..., 0., 0., 0.],\n",
      "          [0., 0., 0.,  ..., 0., 0., 0.],\n",
      "          [0., 0., 0.,  ..., 0., 0., 0.]]]])\n",
      "[9 2 1 ... 8 1 5]\n"
     ]
    }
   ]
  }
 ],
 "metadata": {
  "kernelspec": {
   "display_name": "Python 3",
   "language": "python",
   "name": "python3"
  },
  "language_info": {
   "codemirror_mode": {
    "name": "ipython",
    "version": 2
   },
   "file_extension": ".py",
   "mimetype": "text/x-python",
   "name": "python",
   "nbconvert_exporter": "python",
   "pygments_lexer": "ipython2",
   "version": "2.7.6"
  }
 },
 "nbformat": 4,
 "nbformat_minor": 0
}